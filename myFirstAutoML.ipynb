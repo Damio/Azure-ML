{
  "cells": [
    {
      "metadata": {
        "collapsed": true
      },
      "cell_type": "markdown",
      "source": "### First attempt at Microsoft Azure AutoML"
    },
    {
      "metadata": {},
      "cell_type": "markdown",
      "source": "Lets use an experiment workspace I already created from previous deploymnet exercise. note that I saved my key in another file & import it"
    },
    {
      "metadata": {
        "trusted": true
      },
      "cell_type": "code",
      "source": "#import subscribtionId and necessary libraries\n\nfrom azureml.core import Workspace,Experiment,Run\nimport pandas as pd\nfrom my_config import key\n\nws = Workspace.get(name=\"AMLSWorkspace3\",\n               subscription_id=key,\n               resource_group='rgAMLSLearnworkspace')",
      "execution_count": 1,
      "outputs": []
    },
    {
      "metadata": {},
      "cell_type": "markdown",
      "source": "A dataset that contains some sample diabetes data: age, sex, body mass index, average blood pressure, and six blood serum measurements, as well a quantitative measure of disease progression. We want to predict progression after one year"
    },
    {
      "metadata": {
        "trusted": true
      },
      "cell_type": "code",
      "source": "# Load the diabetes dataset, a well-known built-in small dataset that comes with scikit-learn.\nfrom sklearn.datasets import load_diabetes\nfrom sklearn.model_selection import train_test_split\n\nX, y = load_diabetes(return_X_y = True)\n\nX_train, X_test, y_train, y_test = train_test_split(X, y, test_size = 0.2, random_state = 0)\n\nprint('Done')",
      "execution_count": 2,
      "outputs": [
        {
          "output_type": "stream",
          "text": "Done\n",
          "name": "stdout"
        }
      ]
    },
    {
      "metadata": {},
      "cell_type": "markdown",
      "source": "#### Now, you'll create an experiment in this workspace by using the following code:"
    },
    {
      "metadata": {
        "trusted": true
      },
      "cell_type": "code",
      "source": "from azureml.core.experiment import Experiment\n\nexperiment = Experiment(workspace = ws, name = \"my-autoML-experiment\")\n\nprint('Done')",
      "execution_count": 3,
      "outputs": [
        {
          "output_type": "stream",
          "text": "Done\n",
          "name": "stdout"
        }
      ]
    },
    {
      "metadata": {},
      "cell_type": "markdown",
      "source": "#### Defining ML objectives & constraints\n##### This allows you to configure your AutoML and some-what control the process"
    },
    {
      "metadata": {
        "trusted": true
      },
      "cell_type": "code",
      "source": "from azureml.core.experiment import Experiment\nfrom azureml.core.workspace import Workspace\nfrom azureml.train.automl import AutoMLConfig\nimport logging\n\nautoml_config = AutoMLConfig(task = 'regression',\n                  iteration_timeout_minutes = 40,\n                  iterations = 9,\n                  primary_metric = 'spearman_correlation',\n                  n_cross_validations = 5,\n                  debug_log = 'automl.log',\n                  verbosity = logging.INFO,\n                  X = X_train, \n                  y = y_train)\n\nprint('Done')",
      "execution_count": 13,
      "outputs": [
        {
          "output_type": "stream",
          "text": "WARNING - The AutoMLConfig inputs you have specified will soon be deprecated. Please use the AutoMLConfig shown in our documentation: https://aka.ms/AutoMLConfig\n",
          "name": "stderr"
        },
        {
          "output_type": "stream",
          "text": "Done\n",
          "name": "stdout"
        }
      ]
    },
    {
      "metadata": {},
      "cell_type": "markdown",
      "source": "### Start the AutoML process\n\nNotice that here, we do not specify an estimator I.e No configuration was specified for our run. The default is your local machine, hence, the next block runs on your local computer."
    },
    {
      "metadata": {
        "trusted": true
      },
      "cell_type": "code",
      "source": "### on your local machine",
      "execution_count": null,
      "outputs": []
    },
    {
      "metadata": {
        "trusted": true,
        "scrolled": true
      },
      "cell_type": "code",
      "source": "local_run = experiment.submit(automl_config, show_output = True)",
      "execution_count": 15,
      "outputs": [
        {
          "output_type": "stream",
          "text": "Running on local machine\nParent Run ID: AutoML_5e996a4a-1f0e-4f28-ac9f-c2839adc5b2e\nCurrent status: DatasetCrossValidationSplit. Generating CV splits.\nCurrent status: ModelSelection. Beginning model selection.\n\n****************************************************************************************************\nITERATION: The iteration being evaluated.\nPIPELINE: A summary description of the pipeline being evaluated.\nDURATION: Time taken for the current iteration.\nMETRIC: The result of computing score on the fitted pipeline.\nBEST: The best observed score thus far.\n****************************************************************************************************\n\n ITERATION   PIPELINE                                       DURATION      METRIC      BEST\n         0   StandardScalerWrapper RandomForest             0:01:05       0.6886    0.6886\n         1   MinMaxScaler RandomForest                      0:01:07       0.6788    0.6886\n         2   StandardScalerWrapper ExtremeRandomTrees       0:01:06       0.7021    0.7021\n         3   StandardScalerWrapper LightGBM                 0:01:06       0.6831    0.7021\n         4   RobustScaler DecisionTree                      0:01:07       0.4671    0.7021\n         5   StandardScalerWrapper LassoLars                0:01:06       0.7176    0.7176\n         6   StandardScalerWrapper LightGBM                 0:01:05       0.6774    0.7176\n         7   VotingEnsemble                                 0:01:39       0.7265    0.7265\n         8   StackEnsemble                                  0:01:14       0.7194    0.7265\n",
          "name": "stdout"
        }
      ]
    },
    {
      "metadata": {},
      "cell_type": "markdown",
      "source": "#### To see our results in a better visual representation, we use the widget library"
    },
    {
      "metadata": {
        "trusted": true
      },
      "cell_type": "code",
      "source": "# monitor the run\nfrom azureml.widgets import RunDetails\n\nRunDetails(local_run).show()",
      "execution_count": 16,
      "outputs": [
        {
          "output_type": "display_data",
          "data": {
            "application/vnd.jupyter.widget-view+json": {
              "model_id": "f26f2cf12dc04a4e8490a65a02b6792c",
              "version_minor": 0,
              "version_major": 2
            },
            "text/plain": "_AutoMLWidget(widget_settings={'childWidgetDisplay': 'popup', 'send_telemetry': False, 'log_level': 'INFO', 's…"
          },
          "metadata": {}
        },
        {
          "output_type": "display_data",
          "data": {
            "application/aml.mini.widget.v1": "{\"status\": \"Completed\", \"workbench_run_details_uri\": \"https://ml.azure.com/experiments/my-autoML-experiment/runs/AutoML_5e996a4a-1f0e-4f28-ac9f-c2839adc5b2e?wsid=/subscriptions/1b280dcf-9e0e-4006-9128-c8375f35f7f6/resourcegroups/rgAMLSLearnworkspace/workspaces/AMLSWorkspace3\", \"run_id\": \"AutoML_5e996a4a-1f0e-4f28-ac9f-c2839adc5b2e\", \"run_properties\": {\"run_id\": \"AutoML_5e996a4a-1f0e-4f28-ac9f-c2839adc5b2e\", \"created_utc\": \"2019-12-11T21:55:18.88157Z\", \"properties\": {\"num_iterations\": \"9\", \"training_type\": \"TrainFull\", \"acquisition_function\": \"EI\", \"primary_metric\": \"spearman_correlation\", \"train_split\": \"0\", \"MaxTimeSeconds\": \"2400\", \"acquisition_parameter\": \"0\", \"num_cross_validation\": \"5\", \"target\": \"local\", \"RawAMLSettingsString\": \"{'name': 'my-autoML-experiment', 'path': '.', 'subscription_id': '1b280dcf-9e0e-4006-9128-c8375f35f7f6', 'resource_group': 'rgAMLSLearnworkspace', 'workspace_name': 'AMLSWorkspace3', 'region': 'eastus2', 'compute_target': 'local', 'spark_service': None, 'azure_service': None, 'iterations': 9, 'primary_metric': 'spearman_correlation', 'task_type': 'regression', 'data_script': None, 'validation_size': 0.0, 'n_cross_validations': 5, 'y_min': 25.0, 'y_max': 346.0, 'num_classes': None, 'featurization': 'off', 'preprocess': False, 'lag_length': 0, 'is_timeseries': False, 'max_cores_per_iteration': 1, 'max_concurrent_iterations': 1, 'iteration_timeout_minutes': 40, 'mem_in_mb': None, 'enforce_time_on_windows': False, 'experiment_timeout_minutes': None, 'experiment_exit_score': None, 'whitelist_models': None, 'blacklist_algos': ['XGBoostRegressor', 'Prophet'], 'supported_models': ['ElasticNet', 'GradientBoosting', 'DecisionTree', 'KNN', 'LassoLars', 'SGD', 'RandomForest', 'ExtremeRandomTrees', 'LightGBM', 'XGBoostRegressor', 'FastLinearRegressor', 'OnlineGradientDescentRegressor', 'TensorFlowLinearRegressor', 'TensorFlowDNN'], 'auto_blacklist': True, 'blacklist_samples_reached': False, 'exclude_nan_labels': True, 'verbosity': 20, 'debug_log': 'automl.log', 'show_warnings': False, 'model_explainability': False, 'service_url': None, 'sdk_url': None, 'sdk_packages': None, 'enable_onnx_compatible_models': False, 'enable_split_onnx_featurizer_estimator_models': False, 'vm_type': None, 'telemetry_verbosity': 'INFO', 'send_telemetry': True, 'enable_dnn': False, 'enable_feature_sweeping': True, 'enable_early_stopping': False, 'early_stopping_n_iters': 10, 'metrics': None, 'enable_ensembling': True, 'enable_stack_ensembling': True, 'ensemble_iterations': 9, 'enable_tf': False, 'enable_cache': True, 'enable_subsampling': False, 'subsample_seed': None, 'enable_nimbusml': False, 'enable_streaming': False, 'label_column_name': None, 'weight_column_name': None, 'cost_mode': 0, 'metric_operation': 'maximize'}\", \"AMLSettingsJsonString\": \"{\\\"name\\\":\\\"my-autoML-experiment\\\",\\\"path\\\":\\\".\\\",\\\"subscription_id\\\":\\\"1b280dcf-9e0e-4006-9128-c8375f35f7f6\\\",\\\"resource_group\\\":\\\"rgAMLSLearnworkspace\\\",\\\"workspace_name\\\":\\\"AMLSWorkspace3\\\",\\\"region\\\":\\\"eastus2\\\",\\\"compute_target\\\":\\\"local\\\",\\\"spark_service\\\":null,\\\"azure_service\\\":null,\\\"iterations\\\":9,\\\"primary_metric\\\":\\\"spearman_correlation\\\",\\\"task_type\\\":\\\"regression\\\",\\\"data_script\\\":null,\\\"validation_size\\\":0.0,\\\"n_cross_validations\\\":5,\\\"y_min\\\":25.0,\\\"y_max\\\":346.0,\\\"num_classes\\\":null,\\\"featurization\\\":\\\"off\\\",\\\"preprocess\\\":false,\\\"lag_length\\\":0,\\\"is_timeseries\\\":false,\\\"max_cores_per_iteration\\\":1,\\\"max_concurrent_iterations\\\":1,\\\"iteration_timeout_minutes\\\":40,\\\"mem_in_mb\\\":null,\\\"enforce_time_on_windows\\\":false,\\\"experiment_timeout_minutes\\\":null,\\\"experiment_exit_score\\\":null,\\\"whitelist_models\\\":null,\\\"blacklist_algos\\\":[\\\"XGBoostRegressor\\\",\\\"Prophet\\\",\\\"AutoArima\\\"],\\\"supported_models\\\":[\\\"ElasticNet\\\",\\\"GradientBoosting\\\",\\\"DecisionTree\\\",\\\"KNN\\\",\\\"LassoLars\\\",\\\"SGD\\\",\\\"RandomForest\\\",\\\"ExtremeRandomTrees\\\",\\\"LightGBM\\\",\\\"XGBoostRegressor\\\",\\\"FastLinearRegressor\\\",\\\"OnlineGradientDescentRegressor\\\",\\\"TensorFlowLinearRegressor\\\",\\\"TensorFlowDNN\\\"],\\\"auto_blacklist\\\":true,\\\"blacklist_samples_reached\\\":false,\\\"exclude_nan_labels\\\":true,\\\"verbosity\\\":20,\\\"debug_log\\\":\\\"automl.log\\\",\\\"show_warnings\\\":false,\\\"model_explainability\\\":false,\\\"service_url\\\":null,\\\"sdk_url\\\":null,\\\"sdk_packages\\\":null,\\\"enable_onnx_compatible_models\\\":false,\\\"enable_split_onnx_featurizer_estimator_models\\\":false,\\\"vm_type\\\":null,\\\"telemetry_verbosity\\\":\\\"INFO\\\",\\\"send_telemetry\\\":true,\\\"enable_dnn\\\":false,\\\"enable_feature_sweeping\\\":true,\\\"enable_early_stopping\\\":false,\\\"early_stopping_n_iters\\\":10,\\\"metrics\\\":null,\\\"enable_ensembling\\\":true,\\\"enable_stack_ensembling\\\":true,\\\"ensemble_iterations\\\":9,\\\"enable_tf\\\":false,\\\"enable_cache\\\":true,\\\"enable_subsampling\\\":false,\\\"subsample_seed\\\":null,\\\"enable_nimbusml\\\":false,\\\"enable_streaming\\\":false,\\\"label_column_name\\\":null,\\\"weight_column_name\\\":null,\\\"cost_mode\\\":0,\\\"metric_operation\\\":\\\"maximize\\\"}\", \"DataPrepJsonString\": null, \"EnableSubsampling\": \"False\", \"runTemplate\": \"AutoML\", \"azureml.runsource\": \"automl\", \"display_task_type\": \"regression\", \"dependencies_versions\": \"{\\\"azureml-widgets\\\": \\\"1.0.72\\\", \\\"azureml-train\\\": \\\"1.0.72\\\", \\\"azureml-train-restclients-hyperdrive\\\": \\\"1.0.72\\\", \\\"azureml-train-core\\\": \\\"1.0.72\\\", \\\"azureml-train-automl\\\": \\\"1.0.72\\\", \\\"azureml-telemetry\\\": \\\"1.0.72\\\", \\\"azureml-sdk\\\": \\\"1.0.72\\\", \\\"azureml-pipeline\\\": \\\"1.0.72\\\", \\\"azureml-pipeline-steps\\\": \\\"1.0.72\\\", \\\"azureml-pipeline-core\\\": \\\"1.0.72\\\", \\\"azureml-opendatasets\\\": \\\"1.0.72.1\\\", \\\"azureml-model-management-sdk\\\": \\\"1.0.1b6.post1\\\", \\\"azureml-interpret\\\": \\\"1.0.72.1\\\", \\\"azureml-explain-model\\\": \\\"1.0.72\\\", \\\"azureml-defaults\\\": \\\"1.0.72\\\", \\\"azureml-dataprep\\\": \\\"1.1.30\\\", \\\"azureml-dataprep-native\\\": \\\"13.1.0\\\", \\\"azureml-core\\\": \\\"1.0.72\\\", \\\"azureml-contrib-notebook\\\": \\\"1.0.72\\\", \\\"azureml-automl-core\\\": \\\"1.0.72.1\\\"}\", \"ProblemInfoJsonString\": \"{\\\"dataset_num_categorical\\\": 0, \\\"is_sparse\\\": false, \\\"subsampling\\\": false, \\\"dataset_classes\\\": 194, \\\"dataset_features\\\": 10, \\\"dataset_samples\\\": 353, \\\"single_frequency_class_detected\\\": false}\"}, \"tags\": {\"model_explain_run\": \"best_run\", \"experiment_status\": \"ModelSelection\", \"experiment_status_descr\": \"Beginning model selection.\"}, \"end_time_utc\": \"2019-12-11T22:06:13.38282Z\", \"status\": \"Completed\", \"log_files\": {}, \"log_groups\": [], \"run_duration\": \"0:10:54\"}, \"child_runs\": [{\"run_id\": \"AutoML_5e996a4a-1f0e-4f28-ac9f-c2839adc5b2e_0\", \"run_number\": 10, \"metric\": null, \"status\": \"Completed\", \"run_type\": null, \"training_percent\": \"100\", \"start_time\": \"2019-12-11T21:55:31.89776Z\", \"end_time\": \"2019-12-11T21:56:33.205016Z\", \"created_time\": \"2019-12-11T21:55:31.394095Z\", \"created_time_dt\": \"2019-12-11T21:55:31.394095Z\", \"duration\": \"0:01:01\", \"iteration\": \"0\", \"goal\": \"spearman_correlation_max\", \"run_name\": \"StandardScalerWrapper, RandomForest\", \"run_properties\": \"bootstrap=False, criterion='mse', max_depth=None,\\n           max_features='sqrt', max_leaf_nodes=None,\\n           min_impurity_decrease=0.0, min_impurity_split=None,\\n           min_samples_leaf=0.05040306135985514,\\n           min_samples_split=0.002602463309528381,\\n           min_weight_fraction_leaf=0.0, n_estimators=25, n_jobs=1,\\n           oob_score=False, random_state=None, verbose=0, warm_start=False\", \"primary_metric\": 0.68856839, \"best_metric\": 0.68856839}, {\"run_id\": \"AutoML_5e996a4a-1f0e-4f28-ac9f-c2839adc5b2e_1\", \"run_number\": 11, \"metric\": null, \"status\": \"Completed\", \"run_type\": null, \"training_percent\": \"100\", \"start_time\": \"2019-12-11T21:56:36.580791Z\", \"end_time\": \"2019-12-11T21:57:40.884136Z\", \"created_time\": \"2019-12-11T21:56:36.136109Z\", \"created_time_dt\": \"2019-12-11T21:56:36.136109Z\", \"duration\": \"0:01:04\", \"iteration\": \"1\", \"goal\": \"spearman_correlation_max\", \"run_name\": \"MinMaxScaler, RandomForest\", \"run_properties\": \"bootstrap=True, criterion='mse', max_depth=None,\\n           max_features=0.9, max_leaf_nodes=None,\\n           min_impurity_decrease=0.0, min_impurity_split=None,\\n           min_samples_leaf=0.006151578686713196,\\n           min_samples_split=0.010734188827013528,\\n           min_weight_fraction_leaf=0.0, n_estimators=25, n_jobs=1,\\n           oob_score=False, random_state=None, verbose=0, warm_start=False\", \"primary_metric\": 0.67879749, \"best_metric\": 0.68856839}, {\"run_id\": \"AutoML_5e996a4a-1f0e-4f28-ac9f-c2839adc5b2e_2\", \"run_number\": 12, \"metric\": null, \"status\": \"Completed\", \"run_type\": null, \"training_percent\": \"100\", \"start_time\": \"2019-12-11T21:57:46.250346Z\", \"end_time\": \"2019-12-11T21:58:47.198998Z\", \"created_time\": \"2019-12-11T21:57:44.573575Z\", \"created_time_dt\": \"2019-12-11T21:57:44.573575Z\", \"duration\": \"0:01:02\", \"iteration\": \"2\", \"goal\": \"spearman_correlation_max\", \"run_name\": \"StandardScalerWrapper, ExtremeRandomTrees\", \"run_properties\": \"bootstrap=True, criterion='mse', max_depth=None,\\n          max_features=0.9, max_leaf_nodes=None, min_impurity_decrease=0.0,\\n          min_impurity_split=None, min_samples_leaf=0.0023646822772690063,\\n          min_samples_split=0.052853885930792446,\\n          min_weight_fraction_leaf=0.0, n_estimators=10, n_jobs=1,\\n          oob_score=False, random_state=None, verbose=0, warm_start=False\", \"primary_metric\": 0.70211079, \"best_metric\": 0.70211079}, {\"run_id\": \"AutoML_5e996a4a-1f0e-4f28-ac9f-c2839adc5b2e_3\", \"run_number\": 13, \"metric\": null, \"status\": \"Completed\", \"run_type\": null, \"training_percent\": \"100\", \"start_time\": \"2019-12-11T21:58:51.558096Z\", \"end_time\": \"2019-12-11T21:59:53.258327Z\", \"created_time\": \"2019-12-11T21:58:50.980738Z\", \"created_time_dt\": \"2019-12-11T21:58:50.980738Z\", \"duration\": \"0:01:02\", \"iteration\": \"3\", \"goal\": \"spearman_correlation_max\", \"run_name\": \"StandardScalerWrapper, LightGBM\", \"run_properties\": \"boosting_type='gbdt', class_weight=None, colsample_bytree=1,\\n         importance_type='split', learning_rate=0.12631947368421054,\\n         max_bin=63, max_depth=5, min_child_samples=11,\\n         min_child_weight=0.001, min_split_gain=0.8421052631578947,\\n         n_estimators=25, n_jobs=1, num_leaves=3, objective=None,\\n         random_state=None, reg_alpha=0.3, reg_lambda=0.15, silent=True,\\n         subsample=0.9, subsample_for_bin=200000, subsample_freq=3,\\n         verbose=-1\", \"primary_metric\": 0.68306368, \"best_metric\": 0.70211079}, {\"run_id\": \"AutoML_5e996a4a-1f0e-4f28-ac9f-c2839adc5b2e_4\", \"run_number\": 14, \"metric\": null, \"status\": \"Completed\", \"run_type\": null, \"training_percent\": \"100\", \"start_time\": \"2019-12-11T21:59:59.201982Z\", \"end_time\": \"2019-12-11T22:01:03.172537Z\", \"created_time\": \"2019-12-11T21:59:58.347185Z\", \"created_time_dt\": \"2019-12-11T21:59:58.347185Z\", \"duration\": \"0:01:04\", \"iteration\": \"4\", \"goal\": \"spearman_correlation_max\", \"run_name\": \"RobustScaler, DecisionTree\", \"run_properties\": \"criterion='mse', max_depth=None, max_features=None,\\n           max_leaf_nodes=None, min_impurity_decrease=0.0,\\n           min_impurity_split=None, min_samples_leaf=0.0030712916328495916,\\n           min_samples_split=0.0037087774117744725,\\n           min_weight_fraction_leaf=0.0, presort=False, random_state=None,\\n           splitter='best'\", \"primary_metric\": 0.46710369, \"best_metric\": 0.70211079}, {\"run_id\": \"AutoML_5e996a4a-1f0e-4f28-ac9f-c2839adc5b2e_5\", \"run_number\": 15, \"metric\": null, \"status\": \"Completed\", \"run_type\": null, \"training_percent\": \"100\", \"start_time\": \"2019-12-11T22:01:06.74805Z\", \"end_time\": \"2019-12-11T22:02:10.176715Z\", \"created_time\": \"2019-12-11T22:01:06.022067Z\", \"created_time_dt\": \"2019-12-11T22:01:06.022067Z\", \"duration\": \"0:01:04\", \"iteration\": \"5\", \"goal\": \"spearman_correlation_max\", \"run_name\": \"StandardScalerWrapper, LassoLars\", \"run_properties\": \"alpha=0.001, copy_X=True, eps=2.220446049250313e-16,\\n     fit_intercept=True, fit_path=True, max_iter=500, normalize=True,\\n     positive=False, precompute='auto', verbose=False\", \"primary_metric\": 0.71762326, \"best_metric\": 0.71762326}, {\"run_id\": \"AutoML_5e996a4a-1f0e-4f28-ac9f-c2839adc5b2e_6\", \"run_number\": 16, \"metric\": null, \"status\": \"Completed\", \"run_type\": null, \"training_percent\": \"100\", \"start_time\": \"2019-12-11T22:02:13.351113Z\", \"end_time\": \"2019-12-11T22:03:15.658008Z\", \"created_time\": \"2019-12-11T22:02:12.906267Z\", \"created_time_dt\": \"2019-12-11T22:02:12.906267Z\", \"duration\": \"0:01:02\", \"iteration\": \"6\", \"goal\": \"spearman_correlation_max\", \"run_name\": \"StandardScalerWrapper, LightGBM\", \"run_properties\": \"boosting_type='gbdt', class_weight=None, colsample_bytree=1,\\n         importance_type='split', learning_rate=0.1052678947368421,\\n         max_bin=7, max_depth=7, min_child_samples=1,\\n         min_child_weight=0.001, min_split_gain=0.7368421052631579,\\n         n_estimators=50, n_jobs=1, num_leaves=31, objective=None,\\n         random_state=None, reg_alpha=0, reg_lambda=1.5, silent=True,\\n         subsample=0.65, subsample_for_bin=200000, subsample_freq=1,\\n         verbose=-1\", \"primary_metric\": 0.6774315, \"best_metric\": 0.71762326}, {\"run_id\": \"AutoML_5e996a4a-1f0e-4f28-ac9f-c2839adc5b2e_7\", \"run_number\": 17, \"metric\": null, \"status\": \"Completed\", \"run_type\": null, \"training_percent\": \"100\", \"start_time\": \"2019-12-11T22:03:19.043236Z\", \"end_time\": \"2019-12-11T22:04:54.735929Z\", \"created_time\": \"2019-12-11T22:03:18.561991Z\", \"created_time_dt\": \"2019-12-11T22:03:18.561991Z\", \"duration\": \"0:01:36\", \"iteration\": \"7\", \"goal\": \"spearman_correlation_max\", \"run_name\": \"VotingEnsemble\", \"run_properties\": \"\", \"primary_metric\": 0.72653873, \"best_metric\": 0.72653873}, {\"run_id\": \"AutoML_5e996a4a-1f0e-4f28-ac9f-c2839adc5b2e_8\", \"run_number\": 18, \"metric\": null, \"status\": \"Completed\", \"run_type\": null, \"training_percent\": \"100\", \"start_time\": \"2019-12-11T22:04:59.403205Z\", \"end_time\": \"2019-12-11T22:06:09.647215Z\", \"created_time\": \"2019-12-11T22:04:58.74194Z\", \"created_time_dt\": \"2019-12-11T22:04:58.74194Z\", \"duration\": \"0:01:10\", \"iteration\": \"8\", \"goal\": \"spearman_correlation_max\", \"run_name\": \"StackEnsemble\", \"run_properties\": \"\", \"primary_metric\": 0.71943275, \"best_metric\": 0.72653873}], \"children_metrics\": {\"categories\": [0], \"series\": {\"normalized_root_mean_squared_log_error\": [{\"categories\": [\"0\", \"1\", \"2\", \"3\", \"4\", \"5\", \"6\", \"7\", \"8\"], \"mode\": \"markers\", \"name\": \"normalized_root_mean_squared_log_error\", \"stepped\": false, \"type\": \"scatter\", \"data\": [0.16751618137662352, 0.16870177147279042, 0.1658065151387508, 0.1680011306249886, 0.22978680452118735, 0.16383568257903186, 0.1679226621532305, 0.1593801259300401, 0.16181183750033679]}, {\"categories\": [\"0\", \"1\", \"2\", \"3\", \"4\", \"5\", \"6\", \"7\", \"8\"], \"mode\": \"lines\", \"name\": \"normalized_root_mean_squared_log_error_min\", \"stepped\": true, \"type\": \"scatter\", \"data\": [0.16751618137662352, 0.16751618137662352, 0.1658065151387508, 0.1658065151387508, 0.1658065151387508, 0.16383568257903186, 0.16383568257903186, 0.1593801259300401, 0.1593801259300401]}], \"root_mean_squared_error\": [{\"categories\": [\"0\", \"1\", \"2\", \"3\", \"4\", \"5\", \"6\", \"7\", \"8\"], \"mode\": \"markers\", \"name\": \"root_mean_squared_error\", \"stepped\": false, \"type\": \"scatter\", \"data\": [56.11704172717411, 56.571996983055705, 55.88147290549423, 56.21894333944429, 77.75753416353766, 53.30774625913798, 58.354464868731746, 53.21351085079952, 53.987257064962]}, {\"categories\": [\"0\", \"1\", \"2\", \"3\", \"4\", \"5\", \"6\", \"7\", \"8\"], \"mode\": \"lines\", \"name\": \"root_mean_squared_error_min\", \"stepped\": true, \"type\": \"scatter\", \"data\": [56.11704172717411, 56.11704172717411, 55.88147290549423, 55.88147290549423, 55.88147290549423, 53.30774625913798, 53.30774625913798, 53.21351085079952, 53.21351085079952]}], \"root_mean_squared_log_error\": [{\"categories\": [\"0\", \"1\", \"2\", \"3\", \"4\", \"5\", \"6\", \"7\", \"8\"], \"mode\": \"markers\", \"name\": \"root_mean_squared_log_error\", \"stepped\": false, \"type\": \"scatter\", \"data\": [0.43407266016260077, 0.43714479470313544, 0.4296425247227587, 0.4353292743508647, 0.5954300574970866, 0.42453564773390884, 0.4351259446307446, 0.41299028351154304, 0.4192914032087125]}, {\"categories\": [\"0\", \"1\", \"2\", \"3\", \"4\", \"5\", \"6\", \"7\", \"8\"], \"mode\": \"lines\", \"name\": \"root_mean_squared_log_error_min\", \"stepped\": true, \"type\": \"scatter\", \"data\": [0.43407266016260077, 0.43407266016260077, 0.4296425247227587, 0.4296425247227587, 0.4296425247227587, 0.42453564773390884, 0.42453564773390884, 0.41299028351154304, 0.41299028351154304]}], \"mean_absolute_percentage_error\": [{\"categories\": [\"0\", \"1\", \"2\", \"3\", \"4\", \"5\", \"6\", \"7\", \"8\"], \"mode\": \"markers\", \"name\": \"mean_absolute_percentage_error\", \"stepped\": false, \"type\": \"scatter\", \"data\": [42.22723122344762, 41.219052398904694, 41.62684531345372, 42.15438054717965, 54.21619621323093, 39.889310203963625, 39.96303455940697, 39.31525810168658, 40.00938355389761]}, {\"categories\": [\"0\", \"1\", \"2\", \"3\", \"4\", \"5\", \"6\", \"7\", \"8\"], \"mode\": \"lines\", \"name\": \"mean_absolute_percentage_error_min\", \"stepped\": true, \"type\": \"scatter\", \"data\": [42.22723122344762, 41.219052398904694, 41.219052398904694, 41.219052398904694, 41.219052398904694, 39.889310203963625, 39.889310203963625, 39.31525810168658, 39.31525810168658]}], \"normalized_root_mean_squared_error\": [{\"categories\": [\"0\", \"1\", \"2\", \"3\", \"4\", \"5\", \"6\", \"7\", \"8\"], \"mode\": \"markers\", \"name\": \"normalized_root_mean_squared_error\", \"stepped\": false, \"type\": \"scatter\", \"data\": [0.17481944463294116, 0.17623675072603026, 0.17408558537537144, 0.1751368951384557, 0.24223530892067804, 0.16606774535557, 0.18178961018296494, 0.16577417710529446, 0.16818460144847974]}, {\"categories\": [\"0\", \"1\", \"2\", \"3\", \"4\", \"5\", \"6\", \"7\", \"8\"], \"mode\": \"lines\", \"name\": \"normalized_root_mean_squared_error_min\", \"stepped\": true, \"type\": \"scatter\", \"data\": [0.17481944463294116, 0.17481944463294116, 0.17408558537537144, 0.17408558537537144, 0.17408558537537144, 0.16606774535557, 0.16606774535557, 0.16577417710529446, 0.16577417710529446]}], \"normalized_median_absolute_error\": [{\"categories\": [\"0\", \"1\", \"2\", \"3\", \"4\", \"5\", \"6\", \"7\", \"8\"], \"mode\": \"markers\", \"name\": \"normalized_median_absolute_error\", \"stepped\": false, \"type\": \"scatter\", \"data\": [0.1358189473343869, 0.12270477673935618, 0.12856950225958852, 0.1267808359968559, 0.1585669781931464, 0.11751054000640766, 0.1237312599304475, 0.12566945906295535, 0.12253671750893018]}, {\"categories\": [\"0\", \"1\", \"2\", \"3\", \"4\", \"5\", \"6\", \"7\", \"8\"], \"mode\": \"lines\", \"name\": \"normalized_median_absolute_error_min\", \"stepped\": true, \"type\": \"scatter\", \"data\": [0.1358189473343869, 0.12270477673935618, 0.12270477673935618, 0.12270477673935618, 0.12270477673935618, 0.11751054000640766, 0.11751054000640766, 0.11751054000640766, 0.11751054000640766]}], \"median_absolute_error\": [{\"categories\": [\"0\", \"1\", \"2\", \"3\", \"4\", \"5\", \"6\", \"7\", \"8\"], \"mode\": \"markers\", \"name\": \"median_absolute_error\", \"stepped\": false, \"type\": \"scatter\", \"data\": [43.5978820943382, 39.38823333333333, 41.270810225327914, 40.69664835499074, 50.9, 37.72088334205685, 39.717734437673656, 40.339896359208666, 39.33428632036659]}, {\"categories\": [\"0\", \"1\", \"2\", \"3\", \"4\", \"5\", \"6\", \"7\", \"8\"], \"mode\": \"lines\", \"name\": \"median_absolute_error_min\", \"stepped\": true, \"type\": \"scatter\", \"data\": [43.5978820943382, 39.38823333333333, 39.38823333333333, 39.38823333333333, 39.38823333333333, 37.72088334205685, 37.72088334205685, 37.72088334205685, 37.72088334205685]}], \"spearman_correlation\": [{\"categories\": [\"0\", \"1\", \"2\", \"3\", \"4\", \"5\", \"6\", \"7\", \"8\"], \"mode\": \"markers\", \"name\": \"spearman_correlation\", \"stepped\": false, \"type\": \"scatter\", \"data\": [0.6885683909861182, 0.6787974944587696, 0.7021107922328174, 0.6830636781822348, 0.4671036854882312, 0.7176232571297562, 0.6774314996972028, 0.7265387287066865, 0.7194327490161587]}, {\"categories\": [\"0\", \"1\", \"2\", \"3\", \"4\", \"5\", \"6\", \"7\", \"8\"], \"mode\": \"lines\", \"name\": \"spearman_correlation_max\", \"stepped\": true, \"type\": \"scatter\", \"data\": [0.6885683909861182, 0.6885683909861182, 0.7021107922328174, 0.7021107922328174, 0.7021107922328174, 0.7176232571297562, 0.7176232571297562, 0.7265387287066865, 0.7265387287066865]}], \"mean_absolute_error\": [{\"categories\": [\"0\", \"1\", \"2\", \"3\", \"4\", \"5\", \"6\", \"7\", \"8\"], \"mode\": \"markers\", \"name\": \"mean_absolute_error\", \"stepped\": false, \"type\": \"scatter\", \"data\": [46.550326941883355, 45.972017992805306, 45.961767279402196, 46.26537926801358, 62.17110663983904, 43.64269151688223, 46.07377506461595, 43.62861603394186, 44.31649905814244]}, {\"categories\": [\"0\", \"1\", \"2\", \"3\", \"4\", \"5\", \"6\", \"7\", \"8\"], \"mode\": \"lines\", \"name\": \"mean_absolute_error_min\", \"stepped\": true, \"type\": \"scatter\", \"data\": [46.550326941883355, 45.972017992805306, 45.961767279402196, 45.961767279402196, 45.961767279402196, 43.64269151688223, 43.64269151688223, 43.62861603394186, 43.62861603394186]}], \"r2_score\": [{\"categories\": [\"0\", \"1\", \"2\", \"3\", \"4\", \"5\", \"6\", \"7\", \"8\"], \"mode\": \"markers\", \"name\": \"r2_score\", \"stepped\": false, \"type\": \"scatter\", \"data\": [0.47207584128444663, 0.4631518713830028, 0.47669098631681617, 0.46970483524460854, -0.015230349914726205, 0.5239837867384409, 0.4285400880219977, 0.5256006018174488, 0.5113931264542622]}, {\"categories\": [\"0\", \"1\", \"2\", \"3\", \"4\", \"5\", \"6\", \"7\", \"8\"], \"mode\": \"lines\", \"name\": \"r2_score_max\", \"stepped\": true, \"type\": \"scatter\", \"data\": [0.47207584128444663, 0.47207584128444663, 0.47669098631681617, 0.47669098631681617, 0.47669098631681617, 0.5239837867384409, 0.5239837867384409, 0.5256006018174488, 0.5256006018174488]}], \"explained_variance\": [{\"categories\": [\"0\", \"1\", \"2\", \"3\", \"4\", \"5\", \"6\", \"7\", \"8\"], \"mode\": \"markers\", \"name\": \"explained_variance\", \"stepped\": false, \"type\": \"scatter\", \"data\": [0.492984870132514, 0.48833981419378053, 0.5006629947462049, 0.493652302869406, 0.012783626965366768, 0.5426379546064685, 0.44642647767713833, 0.5449427373683486, 0.5403953709005387]}, {\"categories\": [\"0\", \"1\", \"2\", \"3\", \"4\", \"5\", \"6\", \"7\", \"8\"], \"mode\": \"lines\", \"name\": \"explained_variance_max\", \"stepped\": true, \"type\": \"scatter\", \"data\": [0.492984870132514, 0.492984870132514, 0.5006629947462049, 0.5006629947462049, 0.5006629947462049, 0.5426379546064685, 0.5426379546064685, 0.5449427373683486, 0.5449427373683486]}], \"normalized_mean_absolute_error\": [{\"categories\": [\"0\", \"1\", \"2\", \"3\", \"4\", \"5\", \"6\", \"7\", \"8\"], \"mode\": \"markers\", \"name\": \"normalized_mean_absolute_error\", \"stepped\": false, \"type\": \"scatter\", \"data\": [0.14501659483452758, 0.14321500932338105, 0.14318307563676697, 0.14412890737698936, 0.19367945993719324, 0.13595854055103498, 0.14353200954709017, 0.13591469169452292, 0.13805762946461816]}, {\"categories\": [\"0\", \"1\", \"2\", \"3\", \"4\", \"5\", \"6\", \"7\", \"8\"], \"mode\": \"lines\", \"name\": \"normalized_mean_absolute_error_min\", \"stepped\": true, \"type\": \"scatter\", \"data\": [0.14501659483452758, 0.14321500932338105, 0.14318307563676697, 0.14318307563676697, 0.14318307563676697, 0.13595854055103498, 0.13595854055103498, 0.13591469169452292, 0.13591469169452292]}]}, \"metricName\": null, \"primaryMetricName\": \"spearman_correlation\", \"showLegend\": false}, \"run_metrics\": [], \"run_logs\": \"\\nRun is completed.\", \"graph\": {}, \"widget_settings\": {\"childWidgetDisplay\": \"popup\", \"send_telemetry\": false, \"log_level\": \"INFO\", \"sdk_version\": \"1.0.72\"}, \"loading\": false}"
          },
          "metadata": {}
        }
      ]
    },
    {
      "metadata": {},
      "cell_type": "markdown",
      "source": "We can easily retrieve the best model with this next block"
    },
    {
      "metadata": {
        "trusted": true
      },
      "cell_type": "code",
      "source": "#local_run.get_output gives us the model with the best score\n\nbest_run, fitted_model = local_run.get_output()",
      "execution_count": 17,
      "outputs": []
    },
    {
      "metadata": {
        "trusted": true
      },
      "cell_type": "code",
      "source": "fitted_model",
      "execution_count": 20,
      "outputs": [
        {
          "output_type": "execute_result",
          "execution_count": 20,
          "data": {
            "text/plain": "RegressionPipeline(pipeline=Pipeline(memory=None,\n     steps=[('prefittedsoftvotingregressor', PreFittedSoftVotingRegressor(estimators=[('5', RegressionPipeline(pipeline=Pipeline(memory=None,\n     steps=[('StandardScalerWrapper', <automl.client.core.runtime.model_wrappers.StandardScalerWrapper object at 0x7f45a05a8278>), ('LassoLars', LassoLars(alpha=0....4444444444444444, 0.1111111111111111, 0.1111111111111111, 0.1111111111111111, 0.2222222222222222]))]),\n          stddev=None)"
          },
          "metadata": {}
        }
      ]
    },
    {
      "metadata": {},
      "cell_type": "markdown",
      "source": "#### If you want to train your model using an Azure ML virtual machine, visit the link below, an easy to follow documentation by microsoft\n\nhttps://docs.microsoft.com/en-us/azure/machine-learning/service/how-to-auto-train-remote\n"
    },
    {
      "metadata": {
        "trusted": true
      },
      "cell_type": "code",
      "source": "#results\ny_pred_train = fitted_model.predict(X_train)\ny_residual_train = y_train - y_pred_train\ny_pred_test = fitted_model.predict(X_test)\ny_residual_test = y_test - y_pred_test",
      "execution_count": 26,
      "outputs": []
    },
    {
      "metadata": {
        "trusted": true
      },
      "cell_type": "code",
      "source": "#print (y_residual_test)",
      "execution_count": 29,
      "outputs": []
    },
    {
      "metadata": {
        "trusted": true
      },
      "cell_type": "code",
      "source": "",
      "execution_count": null,
      "outputs": []
    }
  ],
  "metadata": {
    "kernelspec": {
      "name": "python36",
      "display_name": "Python 3.6",
      "language": "python"
    },
    "language_info": {
      "mimetype": "text/x-python",
      "nbconvert_exporter": "python",
      "name": "python",
      "pygments_lexer": "ipython3",
      "version": "3.6.6",
      "file_extension": ".py",
      "codemirror_mode": {
        "version": 3,
        "name": "ipython"
      }
    }
  },
  "nbformat": 4,
  "nbformat_minor": 2
}