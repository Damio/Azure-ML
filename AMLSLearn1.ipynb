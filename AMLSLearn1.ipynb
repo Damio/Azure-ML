{
  "cells": [
    {
      "metadata": {},
      "cell_type": "markdown",
      "source": "# Digit recognizer\n\n### First we import our data from the MNIST library and set them in a folder"
    },
    {
      "metadata": {
        "trusted": true
      },
      "cell_type": "code",
      "source": "import os\nimport urllib.request\n\n#create a folder for the dataset\nos.makedirs('./data', exist_ok = True)\n\n# load dataset to the directory--as you can see, you must load train sets and test sets separately\nurllib.request.urlretrieve('http://yann.lecun.com/exdb/mnist/train-images-idx3-ubyte.gz', filename='./data/train-images.gz')\nurllib.request.urlretrieve('http://yann.lecun.com/exdb/mnist/train-labels-idx1-ubyte.gz', filename='./data/train-labels.gz')\nurllib.request.urlretrieve('http://yann.lecun.com/exdb/mnist/t10k-images-idx3-ubyte.gz', filename='./data/test-images.gz')\nurllib.request.urlretrieve('http://yann.lecun.com/exdb/mnist/t10k-labels-idx1-ubyte.gz', filename='./data/test-labels.gz')",
      "execution_count": 24,
      "outputs": [
        {
          "output_type": "execute_result",
          "execution_count": 24,
          "data": {
            "text/plain": "('./data/test-labels.gz', <http.client.HTTPMessage at 0x7f7a8c8c3dd8>)"
          },
          "metadata": {}
        }
      ]
    },
    {
      "metadata": {},
      "cell_type": "markdown",
      "source": "### Now we want to extract the data from that we just downloaded and turn into a format we can use for our analysis - array & so we will nedd to import all the necessary libraries. It is also good to know that the files downloaded in zipped folder."
    },
    {
      "metadata": {
        "trusted": true
      },
      "cell_type": "code",
      "source": "import gzip\nimport numpy as np\nimport struct\n\n# load compressed MNIST zipped files and return numpy arrays\ndef load_data(filename, label=False):\n    with gzip.open(filename) as gz:\n        struct.unpack('I', gz.read(4))\n        n_items = struct.unpack('>I', gz.read(4))\n        if not label:\n            n_rows = struct.unpack('>I', gz.read(4))[0]\n            n_cols = struct.unpack('>I', gz.read(4))[0]\n            res = np.frombuffer(gz.read(n_items[0] * n_rows * n_cols), dtype=np.uint8)\n            res = res.reshape(n_items[0], n_rows * n_cols)\n        else:\n            res = np.frombuffer(gz.read(n_items[0]), dtype=np.uint8)\n            res = res.reshape(n_items[0], 1)\n    return res\n\nprint('Functions defined')",
      "execution_count": 25,
      "outputs": [
        {
          "output_type": "stream",
          "text": "Functions defined\n",
          "name": "stdout"
        }
      ]
    },
    {
      "metadata": {
        "trusted": true
      },
      "cell_type": "code",
      "source": "# To help the model converge faster, shrink the intensity values (X) from 0-255 to 0-1\n\nX_train = load_data('./data/train-images.gz', False) / 255.0\ny_train = load_data('./data/train-labels.gz', True).reshape(-1)\n\nX_test = load_data('./data/test-images.gz', False) / 255.0\ny_test = load_data('./data/test-labels.gz', True).reshape(-1)\n\nprint('Data loaded')",
      "execution_count": 26,
      "outputs": [
        {
          "output_type": "stream",
          "text": "Data loaded\n",
          "name": "stdout"
        }
      ]
    },
    {
      "metadata": {
        "trusted": true
      },
      "cell_type": "code",
      "source": "%matplotlib inline \n\nimport matplotlib.pyplot as plt\nimport numpy as np\n\n\ncount = 0\nsample_size = 30\nplt.figure(figsize = (16, 6))\nfor i in np.random.permutation(X_train.shape[0])[:sample_size]:\n    count = count + 1\n    plt.subplot(1, sample_size, count)\n    plt.axhline('')\n    plt.axvline('')\n    plt.text(x=10, y=-10, s=y_train[i], fontsize=18)\n    \n    #reshaping the pixelsto 28 x 28\n    plt.imshow(X_train[i].reshape(28, 28), cmap=plt.cm.Greys)\n    \nplt.show()\n\nprint('Done')",
      "execution_count": 27,
      "outputs": [
        {
          "output_type": "display_data",
          "data": {
            "image/png": "[encoded data removed]",
            "text/plain": "<Figure size 1152x432 with 30 Axes>"
          },
          "metadata": {
            "needs_background": "light"
          }
        },
        {
          "output_type": "stream",
          "text": "Done\n",
          "name": "stdout"
        }
      ]
    },
    {
      "metadata": {},
      "cell_type": "markdown",
      "source": "### Now lets try a logistic regression on our data\n#### In this case we will be making use of a logistic regression model from the Scikit-learn library"
    },
    {
      "metadata": {
        "trusted": true
      },
      "cell_type": "code",
      "source": "from sklearn.linear_model import LogisticRegression\n\n#load the model\nlogreg = LogisticRegression()\n#fit the model\nlogreg.fit(X_train, y_train)\n\n#evaluate the model by using a test set\ny_hat = logreg.predict(X_test)",
      "execution_count": 28,
      "outputs": [
        {
          "output_type": "stream",
          "text": "/home/nbuser/anaconda3_501/lib/python3.6/site-packages/sklearn/linear_model/logistic.py:433: FutureWarning: Default solver will be changed to 'lbfgs' in 0.22. Specify a solver to silence this warning.\n  FutureWarning)\n/home/nbuser/anaconda3_501/lib/python3.6/site-packages/sklearn/linear_model/logistic.py:460: FutureWarning: Default multi_class will be changed to 'auto' in 0.22. Specify the multi_class option to silence this warning.\n  \"this warning.\", FutureWarning)\n",
          "name": "stderr"
        }
      ]
    },
    {
      "metadata": {
        "trusted": true
      },
      "cell_type": "code",
      "source": "#import libraries\nfrom sklearn.metrics import accuracy_score\n\n#print the accuracy\nprint(accuracy_score(y_test, y_hat))\n\nprint('Done')",
      "execution_count": 29,
      "outputs": [
        {
          "output_type": "stream",
          "text": "0.9201\nDone\n",
          "name": "stdout"
        }
      ]
    },
    {
      "metadata": {
        "trusted": true
      },
      "cell_type": "code",
      "source": "",
      "execution_count": null,
      "outputs": []
    },
    {
      "metadata": {
        "trusted": true
      },
      "cell_type": "code",
      "source": "",
      "execution_count": null,
      "outputs": []
    }
  ],
  "metadata": {
    "kernelspec": {
      "name": "python36",
      "display_name": "Python 3.6",
      "language": "python"
    },
    "language_info": {
      "mimetype": "text/x-python",
      "nbconvert_exporter": "python",
      "name": "python",
      "pygments_lexer": "ipython3",
      "version": "3.6.6",
      "file_extension": ".py",
      "codemirror_mode": {
        "version": 3,
        "name": "ipython"
      }
    }
  },
  "nbformat": 4,
  "nbformat_minor": 2
}